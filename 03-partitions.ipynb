{
 "cells": [
  {
   "cell_type": "code",
   "execution_count": 20,
   "metadata": {},
   "outputs": [],
   "source": [
    "import numpy as np\n",
    "import networkx as nx\n",
    "from itertools import product\n",
    "import random\n",
    "import matplotlib.pyplot as plt"
   ]
  },
  {
   "cell_type": "code",
   "execution_count": 21,
   "metadata": {},
   "outputs": [],
   "source": [
    "partition_table5a = [\n",
    "    [\"UUU\", \"UUC\", \"UUA\"],\n",
    "    [\"UUG\", \"CUG\", \"AUG\"],\n",
    "    [\"CUU\", \"CUC\", \"CUA\"],\n",
    "    [\"AUU\", \"AUC\", \"AUA\"],\n",
    "    [\"GUU\", \"GUC\", \"GUA\"],\n",
    "    [\"GUG\", \"GCG\", \"GAG\", \"GGG\"],\n",
    "    [\"UCU\", \"UCC\", \"UCA\"],\n",
    "    [\"UCG\", \"CCG\", \"ACG\"],\n",
    "    [\"CCU\", \"CCC\", \"CCA\"],\n",
    "    [\"ACU\", \"ACC\", \"ACA\"],\n",
    "    [\"GCU\", \"GCC\", \"GCA\"],\n",
    "    [\"UAU\", \"UAC\", \"UAA\"],\n",
    "    [\"UAG\", \"CAG\", \"AAG\"],\n",
    "    [\"CAU\", \"CAC\", \"CAA\"],\n",
    "    [\"AAU\", \"AAC\", \"AAA\"],\n",
    "    [\"GAU\", \"GAC\", \"GAA\"],\n",
    "    [\"UGU\", \"UGC\", \"UGA\"],\n",
    "    [\"UGG\", \"CGG\", \"AGG\"],\n",
    "    [\"CGU\", \"CGC\", \"CGA\"],\n",
    "    [\"AGU\", \"AGC\", \"AGA\"],\n",
    "    [\"GGU\", \"GGC\", \"GGA\"],\n",
    "]"
   ]
  },
  {
   "cell_type": "code",
   "execution_count": 22,
   "metadata": {},
   "outputs": [
    {
     "name": "stdout",
     "output_type": "stream",
     "text": [
      "64\n"
     ]
    }
   ],
   "source": [
    "print(len(set([item for sublist in partition_table5a for item in sublist])))"
   ]
  },
  {
   "cell_type": "code",
   "execution_count": 23,
   "metadata": {},
   "outputs": [],
   "source": [
    "length = 3\n",
    "alphabet = ['A', 'C', 'G', 'U']\n",
    "nodes = [''.join(p) for p in product(alphabet, repeat=length)]"
   ]
  },
  {
   "cell_type": "code",
   "execution_count": 24,
   "metadata": {},
   "outputs": [],
   "source": [
    "swap_index =  {\n",
    "    0: {#U\n",
    "        0: \n",
    "        #C    #A    #G   \n",
    "        {1: 0, 2: 1, 3: 2},\n",
    "        #C\n",
    "        1:\n",
    "        #A    #G\n",
    "        {2: 3, 3: 4},\n",
    "        #A\n",
    "        2:\n",
    "        #G\n",
    "        {3: 5}\n",
    "        },\n",
    "    1: {#U\n",
    "        0: \n",
    "        #C    #A    #G   \n",
    "        {1: 6, 2: 7, 3: 8},\n",
    "        #C\n",
    "        1:\n",
    "        #A    #G\n",
    "        {2: 9, 3: 10},\n",
    "        #A\n",
    "        2:\n",
    "        #G\n",
    "        {3: 11}\n",
    "        },\n",
    "    2: {#U\n",
    "        0: \n",
    "        #C    #A    #G   \n",
    "        {1: 12, 2: 13, 3: 14},\n",
    "        #C\n",
    "        1:\n",
    "        #A    #G\n",
    "        {2: 15, 3: 16},\n",
    "        #A\n",
    "        2:\n",
    "        #G\n",
    "        {3: 17}\n",
    "        },\n",
    "}\n",
    "\n",
    "table_ones = np.ones(18)\n",
    "\n",
    "table_altered = [1, 1, 1, 1, 1, 1,\n",
    "                 1, 1, 1, 1, 1, 1,\n",
    "                 4, 2, 2, 2, 2, 4]"
   ]
  },
  {
   "cell_type": "code",
   "execution_count": 25,
   "metadata": {},
   "outputs": [],
   "source": [
    "def weights(s1, s2, table):\n",
    "    if sum(a != b for a, b in zip(s1, s2)) == 1:\n",
    "        if s1[0] != s2[0]:\n",
    "            # base 1\n",
    "            letter1 = s1[0]\n",
    "            letter2 = s2[0]\n",
    "            base = 0\n",
    "        elif s1[1] != s2[1]:\n",
    "            # base 2\n",
    "            letter1 = s1[1]\n",
    "            letter2 = s2[1]\n",
    "            base = 1\n",
    "        else:\n",
    "            # base3\n",
    "            letter1 = s1[2]\n",
    "            letter2 = s2[2]\n",
    "            base = 2\n",
    "    \n",
    "        l1 = ['U', 'C', 'A', 'G'].index(letter1)\n",
    "        l2 = ['U', 'C', 'A', 'G'].index(letter2)\n",
    "        if l1 > l2:\n",
    "            l1, l2 = l2, l1\n",
    "        return table[swap_index[base][l1][l2]]"
   ]
  },
  {
   "cell_type": "code",
   "execution_count": 26,
   "metadata": {},
   "outputs": [],
   "source": [
    "def conductance(S, G):\n",
    "    numerator = 0\n",
    "    denominator = 0\n",
    "    for edge, w in nx.get_edge_attributes(G, \"weight\").items():\n",
    "        node1, node2 = edge\n",
    "        if node1 in S and node2 in S:\n",
    "            denominator += 2 * w\n",
    "        else:\n",
    "            numerator += w\n",
    "            denominator += w\n",
    "\n",
    "    return numerator / denominator"
   ]
  },
  {
   "cell_type": "code",
   "execution_count": 27,
   "metadata": {},
   "outputs": [],
   "source": [
    "def mean_conductance(table, code):\n",
    "    conductances = []\n",
    "    for S in code:\n",
    "        G = nx.Graph()\n",
    "        for i, node1 in enumerate(S):\n",
    "            for node2 in nodes:\n",
    "                if node2 == node1:\n",
    "                    continue\n",
    "                w = weights(node1, node2, table)\n",
    "                if w:\n",
    "                    G.add_edge(node1, node2, weight=w)\n",
    "                    \n",
    "        conductances.append(conductance(S, G))\n",
    "    return np.mean(conductances)"
   ]
  },
  {
   "cell_type": "code",
   "execution_count": 28,
   "metadata": {},
   "outputs": [],
   "source": [
    "def fitness(table, code):\n",
    "    return 1 - mean_conductance(table, code)"
   ]
  },
  {
   "cell_type": "code",
   "execution_count": 29,
   "metadata": {},
   "outputs": [
    {
     "name": "stdout",
     "output_type": "stream",
     "text": [
      "0.7724867724867727\n",
      "0.22751322751322733\n"
     ]
    }
   ],
   "source": [
    "print(mean_conductance(table_ones, partition_table5a))\n",
    "print(fitness(table_ones, partition_table5a))"
   ]
  },
  {
   "cell_type": "code",
   "execution_count": 30,
   "metadata": {},
   "outputs": [],
   "source": [
    "def random_partition():\n",
    "    partition = []\n",
    "    for i in range(21):\n",
    "        partition.append(i)\n",
    "    for i in range(64 - 21):\n",
    "        partition.append(random.randint(0, 20))\n",
    "    random.shuffle(partition)\n",
    "    return partition\n",
    "\n",
    "def partition_to_codons(partition):\n",
    "    partition_codons = [[] for _ in range(21)]\n",
    "    for i, group in enumerate(partition):\n",
    "        partition_codons[group].append(nodes[i])\n",
    "    return partition_codons"
   ]
  },
  {
   "cell_type": "code",
   "execution_count": 31,
   "metadata": {},
   "outputs": [
    {
     "name": "stdout",
     "output_type": "stream",
     "text": [
      "0.9762912572436381\n"
     ]
    }
   ],
   "source": [
    "partition = partition_to_codons(random_partition())\n",
    "print(mean_conductance(table_ones, partition))"
   ]
  },
  {
   "cell_type": "code",
   "execution_count": 32,
   "metadata": {},
   "outputs": [],
   "source": [
    "def initialize_population(pop_size=100):\n",
    "    partitions = [random_partition() for _ in range(pop_size)]\n",
    "    return partitions"
   ]
  },
  {
   "cell_type": "code",
   "execution_count": 78,
   "metadata": {},
   "outputs": [
    {
     "name": "stdout",
     "output_type": "stream",
     "text": [
      "[16, 16, 17, 19, 19, 20, 8, 10, 20, 13, 14, 3, 14, 5, 3, 4, 8, 10, 10, 13, 11, 17, 7, 1, 3, 20, 14, 2, 7, 20, 4, 18, 18, 5, 13, 12, 8, 15, 11, 0, 10, 8, 11, 11, 19, 17, 0, 16, 5, 2, 17, 0, 18, 11, 19, 8, 3, 9, 3, 13, 11, 19, 2, 6]\n",
      "[['GCU', 'GUG', 'UAU'], ['CCU'], ['CGU', 'UAC', 'UUG'], ['AGU', 'AUG', 'CGA', 'UGA', 'UGG'], ['AUU', 'CUG'], ['AUC', 'GAC', 'UAA'], ['UUU'], ['CCG', 'CUA'], ['ACG', 'CAA', 'GCA', 'GGC', 'UCU'], ['UGC'], ['ACU', 'CAC', 'CAG', 'GGA'], ['CCA', 'GCG', 'GGG', 'GGU', 'UCC', 'UUA'], ['GAU'], ['AGC', 'CAU', 'GAG', 'UGU'], ['AGG', 'AUA', 'CGG'], ['GCC'], ['AAA', 'AAC', 'GUU'], ['AAG', 'CCC', 'GUC', 'UAG'], ['CUU', 'GAA', 'UCA'], ['AAU', 'ACA', 'GUA', 'UCG', 'UUC'], ['ACC', 'AGA', 'CGC', 'CUC']]\n"
     ]
    }
   ],
   "source": [
    "def crossover(parent1, parent2):\n",
    "    child = parent1.copy()\n",
    "    for i in range(64):\n",
    "        if np.random.rand() > 0.5:\n",
    "            child[i] = parent2[i]\n",
    "        if len(set(child)) != 21:\n",
    "            child[i] = parent1[i]\n",
    "    return child\n",
    "\n",
    "p1 = random_partition()\n",
    "p2 = random_partition()\n",
    "\n",
    "c = crossover(p1, p2)\n",
    "\n",
    "print(c)\n",
    "print(partition_to_codons(c))"
   ]
  },
  {
   "cell_type": "code",
   "execution_count": 90,
   "metadata": {},
   "outputs": [],
   "source": [
    "def mutate(parent, mutation_rate=0.4):\n",
    "    child = parent.copy()\n",
    "    if np.random.rand() < mutation_rate:\n",
    "        while True:\n",
    "            i, j = np.random.choice(64, 2, replace=False)\n",
    "            child[i] = parent[j]\n",
    "            if len(set(child)) == 21:\n",
    "                break\n",
    "            else:\n",
    "                child[i] = parent[i]\n",
    "\n",
    "    if np.random.rand() < mutation_rate:\n",
    "        while True:\n",
    "            i, j = np.random.choice(64, 2, replace=False)\n",
    "            child[i] = parent[j]\n",
    "            if len(set(child)) == 21:\n",
    "                break\n",
    "            else:\n",
    "                child[i] = parent[i]\n",
    "    return child"
   ]
  },
  {
   "cell_type": "code",
   "execution_count": 91,
   "metadata": {},
   "outputs": [],
   "source": [
    "def evolutionary_algorithm(fitness, pop_size=150, crossover_rate=0.6, mutation_rate=0.4, max_generations=1000, bias_factor=1, table=table_ones, start=None):\n",
    "    \n",
    "    if start is not None:\n",
    "        population = [start for _ in range(pop_size)]\n",
    "    else:\n",
    "        population = initialize_population(pop_size)\n",
    "    \n",
    "    best_fitness = 0\n",
    "    generations = 0\n",
    "    \n",
    "    probabilities = np.exp(-bias_factor * np.arange(pop_size) / pop_size)\n",
    "    probabilities /= np.sum(probabilities)\n",
    "    \n",
    "    while generations < max_generations:\n",
    "        fitness_values = np.array([fitness(table, partition_to_codons(ind)) for ind in population])\n",
    "        sorted_indices = np.argsort(fitness_values)[::-1]\n",
    "        sorted_population = []\n",
    "        for i in sorted_indices:\n",
    "            sorted_population.append(population[i])\n",
    "        population = sorted_population\n",
    "        new_population = []\n",
    "      \n",
    "        for i in range(int(crossover_rate * pop_size)):\n",
    "            parent1_index, parent2_index = np.random.choice(pop_size, size=2, p=probabilities, replace=False)\n",
    "            parent1, parent2 = population[parent1_index], population[parent2_index]\n",
    "            child = crossover(parent1, parent2)\n",
    "            new_population.append(child)\n",
    "        \n",
    "        while len(new_population) < pop_size:\n",
    "            new_population.append(mutate(population[np.random.choice(pop_size, p=probabilities)].copy()))\n",
    "        \n",
    "        new_population = np.array(new_population)\n",
    "        \n",
    "        new_best_fitness = max(fitness_values)\n",
    "        if new_best_fitness > best_fitness:\n",
    "            best_fitness = new_best_fitness\n",
    "        print(f\"{best_fitness:.5f}, {new_best_fitness:.5f}\", generations, f\"cond: {(1 - best_fitness):.5f}\")\n",
    "        \n",
    "        population = new_population\n",
    "        generations += 1\n",
    "    \n",
    "    fitness_values = np.array([fitness(table, partition_to_codons(ind)) for ind in population])\n",
    "    sorted_indices = np.argsort(fitness_values)[::-1]\n",
    "    population = population[sorted_indices]\n",
    "    best_individual = population[0]\n",
    "    \n",
    "    return best_individual"
   ]
  },
  {
   "cell_type": "code",
   "execution_count": 86,
   "metadata": {},
   "outputs": [],
   "source": [
    "best_inds = []\n",
    "fitnesses = []\n",
    "best_ind = random_partition()"
   ]
  },
  {
   "cell_type": "code",
   "execution_count": 95,
   "metadata": {},
   "outputs": [
    {
     "name": "stdout",
     "output_type": "stream",
     "text": [
      "0.41950, 0.41950 0 cond: 0.58050\n",
      "0.41950, 0.41950 1 cond: 0.58050\n",
      "0.41950, 0.41950 2 cond: 0.58050\n",
      "0.41950, 0.41950 3 cond: 0.58050\n",
      "0.41950, 0.41950 4 cond: 0.58050\n",
      "0.41950, 0.41950 5 cond: 0.58050\n",
      "0.41950, 0.41950 6 cond: 0.58050\n",
      "0.41950, 0.41950 7 cond: 0.58050\n",
      "0.41950, 0.41950 8 cond: 0.58050\n",
      "0.41950, 0.41950 9 cond: 0.58050\n",
      "0.41950, 0.41950 10 cond: 0.58050\n",
      "0.41950, 0.41950 11 cond: 0.58050\n",
      "0.42222, 0.42222 12 cond: 0.57778\n",
      "0.42222, 0.42222 13 cond: 0.57778\n",
      "0.42222, 0.42222 14 cond: 0.57778\n",
      "0.42222, 0.42222 15 cond: 0.57778\n",
      "0.42222, 0.42222 16 cond: 0.57778\n",
      "0.42222, 0.42222 17 cond: 0.57778\n",
      "0.42222, 0.42222 18 cond: 0.57778\n",
      "0.42222, 0.42222 19 cond: 0.57778\n",
      "0.43537, 0.43537 0 cond: 0.56463\n",
      "0.43537, 0.43537 1 cond: 0.56463\n",
      "0.43537, 0.43537 2 cond: 0.56463\n",
      "0.43537, 0.43537 3 cond: 0.56463\n",
      "0.43537, 0.43537 4 cond: 0.56463\n",
      "0.43537, 0.43537 5 cond: 0.56463\n",
      "0.43537, 0.43537 6 cond: 0.56463\n",
      "0.43537, 0.43537 7 cond: 0.56463\n",
      "0.43537, 0.43537 8 cond: 0.56463\n",
      "0.43537, 0.43537 9 cond: 0.56463\n",
      "0.43537, 0.43537 10 cond: 0.56463\n",
      "0.43537, 0.43537 11 cond: 0.56463\n",
      "0.43537, 0.43537 12 cond: 0.56463\n",
      "0.43537, 0.43537 13 cond: 0.56463\n",
      "0.43537, 0.43537 14 cond: 0.56463\n",
      "0.43537, 0.43537 15 cond: 0.56463\n",
      "0.43537, 0.43537 16 cond: 0.56463\n",
      "0.43537, 0.43537 17 cond: 0.56463\n",
      "0.43537, 0.43537 18 cond: 0.56463\n",
      "0.43537, 0.43537 19 cond: 0.56463\n",
      "0.43537, 0.43537 0 cond: 0.56463\n",
      "0.43537, 0.43537 1 cond: 0.56463\n",
      "0.43537, 0.43537 2 cond: 0.56463\n",
      "0.43537, 0.43537 3 cond: 0.56463\n",
      "0.43537, 0.43537 4 cond: 0.56463\n",
      "0.43537, 0.43537 5 cond: 0.56463\n",
      "0.43537, 0.43537 6 cond: 0.56463\n",
      "0.43537, 0.43537 7 cond: 0.56463\n",
      "0.43537, 0.43537 8 cond: 0.56463\n",
      "0.43537, 0.43537 9 cond: 0.56463\n",
      "0.43537, 0.43537 10 cond: 0.56463\n",
      "0.43537, 0.43537 11 cond: 0.56463\n",
      "0.43537, 0.43537 12 cond: 0.56463\n",
      "0.43537, 0.43537 13 cond: 0.56463\n",
      "0.43537, 0.43537 14 cond: 0.56463\n",
      "0.43537, 0.43537 15 cond: 0.56463\n",
      "0.43537, 0.43537 16 cond: 0.56463\n",
      "0.43537, 0.43537 17 cond: 0.56463\n",
      "0.43537, 0.43537 18 cond: 0.56463\n",
      "0.43537, 0.43537 19 cond: 0.56463\n",
      "0.43537, 0.43537 0 cond: 0.56463\n",
      "0.43537, 0.43537 1 cond: 0.56463\n",
      "0.43537, 0.43537 2 cond: 0.56463\n",
      "0.43537, 0.43537 3 cond: 0.56463\n",
      "0.43537, 0.43537 4 cond: 0.56463\n",
      "0.43537, 0.43537 5 cond: 0.56463\n",
      "0.43537, 0.43537 6 cond: 0.56463\n",
      "0.43537, 0.43537 7 cond: 0.56463\n",
      "0.43537, 0.43537 8 cond: 0.56463\n",
      "0.43537, 0.43537 9 cond: 0.56463\n",
      "0.43537, 0.43537 10 cond: 0.56463\n",
      "0.43537, 0.43537 11 cond: 0.56463\n",
      "0.43537, 0.43537 12 cond: 0.56463\n",
      "0.43537, 0.43537 13 cond: 0.56463\n",
      "0.43537, 0.43537 14 cond: 0.56463\n",
      "0.43537, 0.43537 15 cond: 0.56463\n",
      "0.43537, 0.43537 16 cond: 0.56463\n",
      "0.43537, 0.43537 17 cond: 0.56463\n",
      "0.43537, 0.43537 18 cond: 0.56463\n",
      "0.43537, 0.43537 19 cond: 0.56463\n",
      "0.43537, 0.43537 0 cond: 0.56463\n",
      "0.43537, 0.43537 1 cond: 0.56463\n",
      "0.43537, 0.43537 2 cond: 0.56463\n",
      "0.43537, 0.43537 3 cond: 0.56463\n",
      "0.43537, 0.43537 4 cond: 0.56463\n",
      "0.43537, 0.43537 5 cond: 0.56463\n",
      "0.43537, 0.43537 6 cond: 0.56463\n",
      "0.43537, 0.43537 7 cond: 0.56463\n",
      "0.43537, 0.43537 8 cond: 0.56463\n",
      "0.43537, 0.43537 9 cond: 0.56463\n",
      "0.43537, 0.43537 10 cond: 0.56463\n",
      "0.43537, 0.43537 11 cond: 0.56463\n",
      "0.43537, 0.43537 12 cond: 0.56463\n",
      "0.43537, 0.43537 13 cond: 0.56463\n",
      "0.43537, 0.43537 14 cond: 0.56463\n",
      "0.43537, 0.43537 15 cond: 0.56463\n",
      "0.43537, 0.43537 16 cond: 0.56463\n",
      "0.43537, 0.43537 17 cond: 0.56463\n",
      "0.43537, 0.43537 18 cond: 0.56463\n",
      "0.43537, 0.43537 19 cond: 0.56463\n",
      "0.43537, 0.43537 0 cond: 0.56463\n",
      "0.43537, 0.43537 1 cond: 0.56463\n",
      "0.43537, 0.43537 2 cond: 0.56463\n",
      "0.43537, 0.43537 3 cond: 0.56463\n",
      "0.43537, 0.43537 4 cond: 0.56463\n",
      "0.43537, 0.43537 5 cond: 0.56463\n",
      "0.43537, 0.43537 6 cond: 0.56463\n",
      "0.43537, 0.43537 7 cond: 0.56463\n",
      "0.43537, 0.43537 8 cond: 0.56463\n",
      "0.43537, 0.43537 9 cond: 0.56463\n",
      "0.43537, 0.43537 10 cond: 0.56463\n",
      "0.43537, 0.43537 11 cond: 0.56463\n",
      "0.43537, 0.43537 12 cond: 0.56463\n",
      "0.43537, 0.43537 13 cond: 0.56463\n",
      "0.43537, 0.43537 14 cond: 0.56463\n",
      "0.43537, 0.43537 15 cond: 0.56463\n",
      "0.43537, 0.43537 16 cond: 0.56463\n",
      "0.43537, 0.43537 17 cond: 0.56463\n",
      "0.43537, 0.43537 18 cond: 0.56463\n",
      "0.43537, 0.43537 19 cond: 0.56463\n",
      "0.43537, 0.43537 0 cond: 0.56463\n",
      "0.43537, 0.43537 1 cond: 0.56463\n",
      "0.43537, 0.43537 2 cond: 0.56463\n",
      "0.43537, 0.43537 3 cond: 0.56463\n",
      "0.43537, 0.43537 4 cond: 0.56463\n",
      "0.43537, 0.43537 5 cond: 0.56463\n",
      "0.43537, 0.43537 6 cond: 0.56463\n",
      "0.43537, 0.43537 7 cond: 0.56463\n",
      "0.43537, 0.43537 8 cond: 0.56463\n",
      "0.43537, 0.43537 9 cond: 0.56463\n",
      "0.43537, 0.43537 10 cond: 0.56463\n",
      "0.43537, 0.43537 11 cond: 0.56463\n",
      "0.43537, 0.43537 12 cond: 0.56463\n",
      "0.43537, 0.43537 13 cond: 0.56463\n",
      "0.43537, 0.43537 14 cond: 0.56463\n",
      "0.43537, 0.43537 15 cond: 0.56463\n",
      "0.43537, 0.43537 16 cond: 0.56463\n",
      "0.43537, 0.43537 17 cond: 0.56463\n",
      "0.43537, 0.43537 18 cond: 0.56463\n",
      "0.43537, 0.43537 19 cond: 0.56463\n",
      "0.43537, 0.43537 0 cond: 0.56463\n",
      "0.43537, 0.43537 1 cond: 0.56463\n",
      "0.43537, 0.43537 2 cond: 0.56463\n",
      "0.43537, 0.43537 3 cond: 0.56463\n",
      "0.43537, 0.43537 4 cond: 0.56463\n",
      "0.43537, 0.43537 5 cond: 0.56463\n",
      "0.43537, 0.43537 6 cond: 0.56463\n",
      "0.43537, 0.43537 7 cond: 0.56463\n",
      "0.43537, 0.43537 8 cond: 0.56463\n",
      "0.43537, 0.43537 9 cond: 0.56463\n",
      "0.43537, 0.43537 10 cond: 0.56463\n",
      "0.43537, 0.43537 11 cond: 0.56463\n",
      "0.43537, 0.43537 12 cond: 0.56463\n",
      "0.43537, 0.43537 13 cond: 0.56463\n",
      "0.43537, 0.43537 14 cond: 0.56463\n",
      "0.43537, 0.43537 15 cond: 0.56463\n",
      "0.43537, 0.43537 16 cond: 0.56463\n",
      "0.43537, 0.43537 17 cond: 0.56463\n",
      "0.43537, 0.43537 18 cond: 0.56463\n",
      "0.43537, 0.43537 19 cond: 0.56463\n",
      "0.43537, 0.43537 0 cond: 0.56463\n",
      "0.43537, 0.43537 1 cond: 0.56463\n",
      "0.43537, 0.43537 2 cond: 0.56463\n",
      "0.43537, 0.43537 3 cond: 0.56463\n",
      "0.43537, 0.43537 4 cond: 0.56463\n",
      "0.43537, 0.43537 5 cond: 0.56463\n",
      "0.43537, 0.43537 6 cond: 0.56463\n",
      "0.43537, 0.43537 7 cond: 0.56463\n",
      "0.43537, 0.43537 8 cond: 0.56463\n",
      "0.43537, 0.43537 9 cond: 0.56463\n",
      "0.43537, 0.43537 10 cond: 0.56463\n",
      "0.43537, 0.43537 11 cond: 0.56463\n",
      "0.43537, 0.43537 12 cond: 0.56463\n",
      "0.43537, 0.43537 13 cond: 0.56463\n",
      "0.43537, 0.43537 14 cond: 0.56463\n",
      "0.43537, 0.43537 15 cond: 0.56463\n",
      "0.43537, 0.43537 16 cond: 0.56463\n",
      "0.43537, 0.43537 17 cond: 0.56463\n",
      "0.43537, 0.43537 18 cond: 0.56463\n",
      "0.43537, 0.43537 19 cond: 0.56463\n",
      "0.43537, 0.43537 0 cond: 0.56463\n",
      "0.43537, 0.43537 1 cond: 0.56463\n",
      "0.43537, 0.43537 2 cond: 0.56463\n",
      "0.43537, 0.43537 3 cond: 0.56463\n",
      "0.43537, 0.43537 4 cond: 0.56463\n",
      "0.43537, 0.43537 5 cond: 0.56463\n",
      "0.43537, 0.43537 6 cond: 0.56463\n",
      "0.43537, 0.43537 7 cond: 0.56463\n",
      "0.43537, 0.43537 8 cond: 0.56463\n",
      "0.43537, 0.43537 9 cond: 0.56463\n",
      "0.43537, 0.43537 10 cond: 0.56463\n",
      "0.43537, 0.43537 11 cond: 0.56463\n",
      "0.43537, 0.43537 12 cond: 0.56463\n",
      "0.43537, 0.43537 13 cond: 0.56463\n",
      "0.43537, 0.43537 14 cond: 0.56463\n",
      "0.43537, 0.43537 15 cond: 0.56463\n",
      "0.43537, 0.43537 16 cond: 0.56463\n",
      "0.43537, 0.43537 17 cond: 0.56463\n",
      "0.43537, 0.43537 18 cond: 0.56463\n",
      "0.43537, 0.43537 19 cond: 0.56463\n",
      "0.43537, 0.43537 0 cond: 0.56463\n",
      "0.43537, 0.43537 1 cond: 0.56463\n",
      "0.43537, 0.43537 2 cond: 0.56463\n",
      "0.43537, 0.43537 3 cond: 0.56463\n",
      "0.43537, 0.43537 4 cond: 0.56463\n",
      "0.43537, 0.43537 5 cond: 0.56463\n",
      "0.43537, 0.43537 6 cond: 0.56463\n",
      "0.43537, 0.43537 7 cond: 0.56463\n",
      "0.43537, 0.43537 8 cond: 0.56463\n",
      "0.43537, 0.43537 9 cond: 0.56463\n",
      "0.43537, 0.43537 10 cond: 0.56463\n",
      "0.43537, 0.43537 11 cond: 0.56463\n",
      "0.43537, 0.43537 12 cond: 0.56463\n",
      "0.43537, 0.43537 13 cond: 0.56463\n",
      "0.43537, 0.43537 14 cond: 0.56463\n",
      "0.43537, 0.43537 15 cond: 0.56463\n",
      "0.43537, 0.43537 16 cond: 0.56463\n",
      "0.43537, 0.43537 17 cond: 0.56463\n",
      "0.43537, 0.43537 18 cond: 0.56463\n",
      "0.43537, 0.43537 19 cond: 0.56463\n"
     ]
    },
    {
     "ename": "KeyboardInterrupt",
     "evalue": "",
     "output_type": "error",
     "traceback": [
      "\u001b[1;31m---------------------------------------------------------------------------\u001b[0m",
      "\u001b[1;31mKeyboardInterrupt\u001b[0m                         Traceback (most recent call last)",
      "Cell \u001b[1;32mIn[95], line 2\u001b[0m\n\u001b[0;32m      1\u001b[0m \u001b[38;5;28;01mfor\u001b[39;00m _ \u001b[38;5;129;01min\u001b[39;00m \u001b[38;5;28mrange\u001b[39m(\u001b[38;5;241m50\u001b[39m):\n\u001b[1;32m----> 2\u001b[0m     best_ind \u001b[38;5;241m=\u001b[39m \u001b[43mevolutionary_algorithm\u001b[49m\u001b[43m(\u001b[49m\u001b[43mfitness\u001b[49m\u001b[43m,\u001b[49m\u001b[43m \u001b[49m\u001b[43mpop_size\u001b[49m\u001b[38;5;241;43m=\u001b[39;49m\u001b[38;5;241;43m1000\u001b[39;49m\u001b[43m,\u001b[49m\n\u001b[0;32m      3\u001b[0m \u001b[43m        \u001b[49m\u001b[43mmax_generations\u001b[49m\u001b[38;5;241;43m=\u001b[39;49m\u001b[38;5;241;43m20\u001b[39;49m\u001b[43m,\u001b[49m\u001b[43m \u001b[49m\u001b[43mbias_factor\u001b[49m\u001b[38;5;241;43m=\u001b[39;49m\u001b[38;5;241;43m2.0\u001b[39;49m\u001b[43m,\u001b[49m\u001b[43m \u001b[49m\u001b[43mtable\u001b[49m\u001b[38;5;241;43m=\u001b[39;49m\u001b[43mtable_altered\u001b[49m\u001b[43m,\u001b[49m\n\u001b[0;32m      4\u001b[0m \u001b[43m        \u001b[49m\u001b[43mmutation_rate\u001b[49m\u001b[38;5;241;43m=\u001b[39;49m\u001b[38;5;241;43m0.7\u001b[39;49m\u001b[43m,\u001b[49m\u001b[43m \u001b[49m\u001b[43mcrossover_rate\u001b[49m\u001b[38;5;241;43m=\u001b[39;49m\u001b[38;5;241;43m0.6\u001b[39;49m\u001b[43m,\u001b[49m\n\u001b[0;32m      5\u001b[0m \u001b[43m        \u001b[49m\u001b[43mstart\u001b[49m\u001b[38;5;241;43m=\u001b[39;49m\u001b[43mbest_ind\u001b[49m\u001b[43m)\u001b[49m\n\u001b[0;32m      6\u001b[0m     best_inds\u001b[38;5;241m.\u001b[39mappend(best_ind)\n\u001b[0;32m      7\u001b[0m     fitnesses\u001b[38;5;241m.\u001b[39mappend(fitness(table_altered, partition_to_codons(best_ind)))\n",
      "Cell \u001b[1;32mIn[91], line 42\u001b[0m, in \u001b[0;36mevolutionary_algorithm\u001b[1;34m(fitness, pop_size, crossover_rate, mutation_rate, max_generations, bias_factor, table, start)\u001b[0m\n\u001b[0;32m     39\u001b[0m     population \u001b[38;5;241m=\u001b[39m new_population\n\u001b[0;32m     40\u001b[0m     generations \u001b[38;5;241m+\u001b[39m\u001b[38;5;241m=\u001b[39m \u001b[38;5;241m1\u001b[39m\n\u001b[1;32m---> 42\u001b[0m fitness_values \u001b[38;5;241m=\u001b[39m np\u001b[38;5;241m.\u001b[39marray([\u001b[43mfitness\u001b[49m\u001b[43m(\u001b[49m\u001b[43mtable\u001b[49m\u001b[43m,\u001b[49m\u001b[43m \u001b[49m\u001b[43mpartition_to_codons\u001b[49m\u001b[43m(\u001b[49m\u001b[43mind\u001b[49m\u001b[43m)\u001b[49m\u001b[43m)\u001b[49m \u001b[38;5;28;01mfor\u001b[39;00m ind \u001b[38;5;129;01min\u001b[39;00m population])\n\u001b[0;32m     43\u001b[0m sorted_indices \u001b[38;5;241m=\u001b[39m np\u001b[38;5;241m.\u001b[39margsort(fitness_values)[::\u001b[38;5;241m-\u001b[39m\u001b[38;5;241m1\u001b[39m]\n\u001b[0;32m     44\u001b[0m population \u001b[38;5;241m=\u001b[39m population[sorted_indices]\n",
      "Cell \u001b[1;32mIn[28], line 2\u001b[0m, in \u001b[0;36mfitness\u001b[1;34m(table, code)\u001b[0m\n\u001b[0;32m      1\u001b[0m \u001b[38;5;28;01mdef\u001b[39;00m \u001b[38;5;21mfitness\u001b[39m(table, code):\n\u001b[1;32m----> 2\u001b[0m     \u001b[38;5;28;01mreturn\u001b[39;00m \u001b[38;5;241m1\u001b[39m \u001b[38;5;241m-\u001b[39m \u001b[43mmean_conductance\u001b[49m\u001b[43m(\u001b[49m\u001b[43mtable\u001b[49m\u001b[43m,\u001b[49m\u001b[43m \u001b[49m\u001b[43mcode\u001b[49m\u001b[43m)\u001b[49m\n",
      "Cell \u001b[1;32mIn[27], line 9\u001b[0m, in \u001b[0;36mmean_conductance\u001b[1;34m(table, code)\u001b[0m\n\u001b[0;32m      7\u001b[0m \u001b[38;5;28;01mif\u001b[39;00m node2 \u001b[38;5;241m==\u001b[39m node1:\n\u001b[0;32m      8\u001b[0m     \u001b[38;5;28;01mcontinue\u001b[39;00m\n\u001b[1;32m----> 9\u001b[0m w \u001b[38;5;241m=\u001b[39m \u001b[43mweights\u001b[49m\u001b[43m(\u001b[49m\u001b[43mnode1\u001b[49m\u001b[43m,\u001b[49m\u001b[43m \u001b[49m\u001b[43mnode2\u001b[49m\u001b[43m,\u001b[49m\u001b[43m \u001b[49m\u001b[43mtable\u001b[49m\u001b[43m)\u001b[49m\n\u001b[0;32m     10\u001b[0m \u001b[38;5;28;01mif\u001b[39;00m w:\n\u001b[0;32m     11\u001b[0m     G\u001b[38;5;241m.\u001b[39madd_edge(node1, node2, weight\u001b[38;5;241m=\u001b[39mw)\n",
      "Cell \u001b[1;32mIn[25], line 2\u001b[0m, in \u001b[0;36mweights\u001b[1;34m(s1, s2, table)\u001b[0m\n\u001b[0;32m      1\u001b[0m \u001b[38;5;28;01mdef\u001b[39;00m \u001b[38;5;21mweights\u001b[39m(s1, s2, table):\n\u001b[1;32m----> 2\u001b[0m     \u001b[38;5;28;01mif\u001b[39;00m \u001b[38;5;28;43msum\u001b[39;49m\u001b[43m(\u001b[49m\u001b[43ma\u001b[49m\u001b[43m \u001b[49m\u001b[38;5;241;43m!=\u001b[39;49m\u001b[43m \u001b[49m\u001b[43mb\u001b[49m\u001b[43m \u001b[49m\u001b[38;5;28;43;01mfor\u001b[39;49;00m\u001b[43m \u001b[49m\u001b[43ma\u001b[49m\u001b[43m,\u001b[49m\u001b[43m \u001b[49m\u001b[43mb\u001b[49m\u001b[43m \u001b[49m\u001b[38;5;129;43;01min\u001b[39;49;00m\u001b[43m \u001b[49m\u001b[38;5;28;43mzip\u001b[39;49m\u001b[43m(\u001b[49m\u001b[43ms1\u001b[49m\u001b[43m,\u001b[49m\u001b[43m \u001b[49m\u001b[43ms2\u001b[49m\u001b[43m)\u001b[49m\u001b[43m)\u001b[49m \u001b[38;5;241m==\u001b[39m \u001b[38;5;241m1\u001b[39m:\n\u001b[0;32m      3\u001b[0m         \u001b[38;5;28;01mif\u001b[39;00m s1[\u001b[38;5;241m0\u001b[39m] \u001b[38;5;241m!=\u001b[39m s2[\u001b[38;5;241m0\u001b[39m]:\n\u001b[0;32m      4\u001b[0m             \u001b[38;5;66;03m# base 1\u001b[39;00m\n\u001b[0;32m      5\u001b[0m             letter1 \u001b[38;5;241m=\u001b[39m s1[\u001b[38;5;241m0\u001b[39m]\n",
      "Cell \u001b[1;32mIn[25], line 2\u001b[0m, in \u001b[0;36m<genexpr>\u001b[1;34m(.0)\u001b[0m\n\u001b[0;32m      1\u001b[0m \u001b[38;5;28;01mdef\u001b[39;00m \u001b[38;5;21mweights\u001b[39m(s1, s2, table):\n\u001b[1;32m----> 2\u001b[0m     \u001b[38;5;28;01mif\u001b[39;00m \u001b[38;5;28msum\u001b[39m(a \u001b[38;5;241m!=\u001b[39m b \u001b[38;5;28;01mfor\u001b[39;00m a, b \u001b[38;5;129;01min\u001b[39;00m \u001b[38;5;28mzip\u001b[39m(s1, s2)) \u001b[38;5;241m==\u001b[39m \u001b[38;5;241m1\u001b[39m:\n\u001b[0;32m      3\u001b[0m         \u001b[38;5;28;01mif\u001b[39;00m s1[\u001b[38;5;241m0\u001b[39m] \u001b[38;5;241m!=\u001b[39m s2[\u001b[38;5;241m0\u001b[39m]:\n\u001b[0;32m      4\u001b[0m             \u001b[38;5;66;03m# base 1\u001b[39;00m\n\u001b[0;32m      5\u001b[0m             letter1 \u001b[38;5;241m=\u001b[39m s1[\u001b[38;5;241m0\u001b[39m]\n",
      "\u001b[1;31mKeyboardInterrupt\u001b[0m: "
     ]
    }
   ],
   "source": [
    "for _ in range(50):\n",
    "    best_ind = evolutionary_algorithm(fitness, pop_size=1000,\n",
    "        max_generations=20, bias_factor=2.0, table=table_altered,\n",
    "        mutation_rate=0.7, crossover_rate=0.6,\n",
    "        start=best_ind)\n",
    "    best_inds.append(best_ind)\n",
    "    fitnesses.append(fitness(table_altered, partition_to_codons(best_ind)))"
   ]
  },
  {
   "cell_type": "code",
   "execution_count": 100,
   "metadata": {},
   "outputs": [
    {
     "name": "stdout",
     "output_type": "stream",
     "text": [
      "[10 10 10 10 12 12 12 12 20 20 20 20  7  6  7  6  1 13  1 13  3  4  3  4\n",
      " 11 11 11 11  0  0  0  0  8  8  8  8  5  5  5  5  9  9  9  9 15 19 15 19\n",
      " 18 16 18 16 14 14 14 14 17 17 17 17  2  2  2  2] 0.435374149659864\n"
     ]
    }
   ],
   "source": [
    "print(best_ind, fitness(table_altered, partition_to_codons(best_ind)))"
   ]
  },
  {
   "cell_type": "code",
   "execution_count": null,
   "metadata": {},
   "outputs": [
    {
     "name": "stdout",
     "output_type": "stream",
     "text": [
      "[['CUA', 'CUC', 'CUG', 'CUU'], ['UAA', 'UAC', 'UAG', 'UAU'], ['CCA', 'CCC', 'CCG', 'CCU'], ['CAA', 'CAC', 'CAG', 'CAU'], ['AUA', 'AUU'], ['CGA', 'CGU'], ['AUC', 'AUG', 'UGA', 'UGU'], ['UGC', 'UGG'], ['GUC', 'GUG'], ['AGA', 'AGC', 'AGG', 'AGU'], ['UUA', 'UUC', 'UUG', 'UUU'], ['GCA', 'GCU'], ['GAA', 'GAC', 'GAG', 'GAU'], ['ACA', 'ACC', 'ACG', 'ACU'], ['CGC', 'CGG'], ['GGA', 'GGC', 'GGG', 'GGU'], ['GCC', 'GCG'], ['AAA', 'AAU'], ['AAC', 'AAG'], ['UCA', 'UCC', 'UCG', 'UCU'], ['GUA', 'GUU']]\n"
     ]
    }
   ],
   "source": [
    "print(partition_to_codons(best_ind))"
   ]
  },
  {
   "cell_type": "code",
   "execution_count": 56,
   "metadata": {},
   "outputs": [],
   "source": [
    "partition_table5b = [\n",
    "    [\"UUU\", \"UUC\"],\n",
    "    [\"UUA\", \"UUG\"],\n",
    "    [\"CUU\", \"CUC\", \"CUA\", \"CUG\"],\n",
    "    [\"AUU\", \"AUC\", \"AUA\", \"AUG\"],\n",
    "    [\"GUU\", \"GUC\", \"GUA\", \"GUG\"],\n",
    "    [\"UCU\", \"UCC\", \"UCA\", \"UCG\"],\n",
    "    [\"CCU\", \"CCC\", \"CCA\", \"CCG\"],\n",
    "    [\"ACU\", \"ACC\", \"ACA\", \"ACG\"],\n",
    "    [\"GCU\", \"GCC\", \"GCA\", \"GCG\"],\n",
    "    [\"UAU\", \"UAC\"],\n",
    "    [\"UAA\", \"UAG\"],\n",
    "    [\"CAU\", \"CAC\"],\n",
    "    [\"CAA\", \"CAG\"],\n",
    "    [\"AAU\", \"AAC\", \"AAA\", \"AAG\"],\n",
    "    [\"GAU\", \"GAC\"],\n",
    "    [\"GAA\", \"GAG\"],\n",
    "    [\"UGU\", \"UGC\", \"UGA\", \"UGG\"],\n",
    "    [\"CGU\", \"CGC\", \"CGA\", \"CGG\"],\n",
    "    [\"AGU\", \"AGC\", \"AGA\", \"AGG\"],\n",
    "    [\"GGU\", \"GGC\", \"GGA\", \"GGG\"],\n",
    "]"
   ]
  },
  {
   "cell_type": "code",
   "execution_count": 57,
   "metadata": {},
   "outputs": [
    {
     "name": "stdout",
     "output_type": "stream",
     "text": [
      "64\n"
     ]
    }
   ],
   "source": [
    "print(len(set([item for sublist in partition_table5b for item in sublist])))"
   ]
  },
  {
   "cell_type": "code",
   "execution_count": 58,
   "metadata": {},
   "outputs": [
    {
     "data": {
      "text/plain": [
       "0.5428571428571429"
      ]
     },
     "execution_count": 58,
     "metadata": {},
     "output_type": "execute_result"
    }
   ],
   "source": [
    "mean_conductance(table_altered, partition_table5b)"
   ]
  },
  {
   "cell_type": "code",
   "execution_count": 59,
   "metadata": {},
   "outputs": [
    {
     "data": {
      "text/plain": [
       "0.4571428571428571"
      ]
     },
     "execution_count": 59,
     "metadata": {},
     "output_type": "execute_result"
    }
   ],
   "source": [
    "fitness(table_altered, partition_table5b)"
   ]
  }
 ],
 "metadata": {
  "kernelspec": {
   "display_name": "Python 3",
   "language": "python",
   "name": "python3"
  },
  "language_info": {
   "codemirror_mode": {
    "name": "ipython",
    "version": 3
   },
   "file_extension": ".py",
   "mimetype": "text/x-python",
   "name": "python",
   "nbconvert_exporter": "python",
   "pygments_lexer": "ipython3",
   "version": "3.12.5"
  }
 },
 "nbformat": 4,
 "nbformat_minor": 2
}
