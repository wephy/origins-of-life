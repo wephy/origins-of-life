{
 "cells": [
  {
   "cell_type": "code",
   "execution_count": 2,
   "metadata": {},
   "outputs": [],
   "source": [
    "import numpy as np\n",
    "import networkx as nx\n",
    "from itertools import product\n",
    "import random\n",
    "import matplotlib.pyplot as plt"
   ]
  },
  {
   "cell_type": "code",
   "execution_count": 109,
   "metadata": {},
   "outputs": [],
   "source": [
    "partition_table5a = [\n",
    "    [\"UUU\", \"UUC\", \"UUA\"],\n",
    "    [\"UUG\", \"CUG\", \"AUG\"],\n",
    "    [\"CUU\", \"CUC\", \"CUA\"],\n",
    "    [\"AUU\", \"AUC\", \"AUA\"],\n",
    "    [\"GUU\", \"GUC\", \"GUA\"],\n",
    "    [\"GUG\", \"GCG\", \"GAG\", \"GGG\"],\n",
    "    [\"UCU\", \"UCC\", \"UCA\"],\n",
    "    [\"UCG\", \"CCG\", \"ACG\"],\n",
    "    [\"CCU\", \"CCC\", \"CCA\"],\n",
    "    [\"ACU\", \"ACC\", \"ACA\"],\n",
    "    [\"GCU\", \"GCC\", \"GCA\"],\n",
    "    [\"UAU\", \"UAC\", \"UAA\"],\n",
    "    [\"UAG\", \"CAG\", \"AAG\"],\n",
    "    [\"CAU\", \"CAC\", \"CAA\"],\n",
    "    [\"AAU\", \"AAC\", \"AAA\"],\n",
    "    [\"GAU\", \"GAC\", \"GAA\"],\n",
    "    [\"UGU\", \"UGC\", \"UGA\"],\n",
    "    [\"UGG\", \"CGG\", \"AGG\"],\n",
    "    [\"CGU\", \"CGC\", \"CGA\"],\n",
    "    [\"AGU\", \"AGC\", \"AGA\"],\n",
    "    [\"GGU\", \"GGC\", \"GGA\"],\n",
    "]"
   ]
  },
  {
   "cell_type": "code",
   "execution_count": 110,
   "metadata": {},
   "outputs": [
    {
     "name": "stdout",
     "output_type": "stream",
     "text": [
      "64\n"
     ]
    }
   ],
   "source": [
    "print(len(set([item for sublist in partition_table5a for item in sublist])))"
   ]
  },
  {
   "cell_type": "code",
   "execution_count": 111,
   "metadata": {},
   "outputs": [],
   "source": [
    "length = 3\n",
    "alphabet = ['A', 'C', 'G', 'U']\n",
    "nodes = [''.join(p) for p in product(alphabet, repeat=length)]"
   ]
  },
  {
   "cell_type": "code",
   "execution_count": 112,
   "metadata": {},
   "outputs": [],
   "source": [
    "swap_index =  {\n",
    "    0: {#U\n",
    "        0: \n",
    "        #C    #A    #G   \n",
    "        {1: 0, 2: 1, 3: 2},\n",
    "        #C\n",
    "        1:\n",
    "        #A    #G\n",
    "        {2: 3, 3: 4},\n",
    "        #A\n",
    "        2:\n",
    "        #G\n",
    "        {3: 5}\n",
    "        },\n",
    "    1: {#A\n",
    "        0: \n",
    "        #C    #A    #G   \n",
    "        {1: 6, 2: 7, 3: 8},\n",
    "        #C\n",
    "        1:\n",
    "        #A    #G\n",
    "        {2: 9, 3: 10},\n",
    "        #A\n",
    "        2:\n",
    "        #G\n",
    "        {3: 11}\n",
    "        },\n",
    "    2: {#A\n",
    "        0: \n",
    "        #C    #A    #G   \n",
    "        {1: 12, 2: 13, 3: 14},\n",
    "        #C\n",
    "        1:\n",
    "        #A    #G\n",
    "        {2: 15, 3: 16},\n",
    "        #A\n",
    "        2:\n",
    "        #G\n",
    "        {3: 17}\n",
    "        },\n",
    "}\n",
    "\n",
    "table_ones = np.ones(18)\n",
    "\n",
    "table_altered = [1, 1, 1, 1, 1, 1,\n",
    "                 1, 1, 1, 1, 1, 1,\n",
    "                 2, 4, 2, 2, 4, 2]"
   ]
  },
  {
   "cell_type": "code",
   "execution_count": 24,
   "metadata": {},
   "outputs": [],
   "source": [
    "def weights(s1, s2, table):\n",
    "    if sum(a != b for a, b in zip(s1, s2)) == 1:\n",
    "        if s1[0] != s2[0]:\n",
    "            # base 1\n",
    "            letter1 = s1[0]\n",
    "            letter2 = s2[0]\n",
    "            base = 0\n",
    "        elif s1[1] != s2[1]:\n",
    "            # base 2\n",
    "            letter1 = s1[1]\n",
    "            letter2 = s2[1]\n",
    "            base = 1\n",
    "        else:\n",
    "            # base3\n",
    "            letter1 = s1[2]\n",
    "            letter2 = s2[2]\n",
    "            base = 2\n",
    "    \n",
    "        l1 = ['U', 'C', 'A', 'G'].index(letter1)\n",
    "        l2 = ['U', 'C', 'A', 'G'].index(letter2)\n",
    "        if l1 > l2:\n",
    "            l1, l2 = l2, l1\n",
    "        return table[swap_index[base][l1][l2]]"
   ]
  },
  {
   "cell_type": "code",
   "execution_count": 25,
   "metadata": {},
   "outputs": [],
   "source": [
    "def conductance(S, G):\n",
    "    numerator = 0\n",
    "    denominator = 0\n",
    "    for edge, w in nx.get_edge_attributes(G, \"weight\").items():\n",
    "        node1, node2 = edge\n",
    "        if node1 in S and node2 in S:\n",
    "            denominator += 2 * w\n",
    "        else:\n",
    "            numerator += w\n",
    "            denominator += w\n",
    "\n",
    "    return numerator / denominator"
   ]
  },
  {
   "cell_type": "code",
   "execution_count": 117,
   "metadata": {},
   "outputs": [],
   "source": [
    "def mean_conductance(table, code):\n",
    "    conductances = []\n",
    "    for S in code:\n",
    "        G = nx.Graph()\n",
    "        for i, node1 in enumerate(S):\n",
    "            for node2 in nodes:\n",
    "                if node2 == node1:\n",
    "                    continue\n",
    "                w = weights(node1, node2, table)\n",
    "                if w:\n",
    "                    G.add_edge(node1, node2, weight=w)\n",
    "                    \n",
    "        conductances.append(conductance(S, G))\n",
    "    return np.mean(conductances)"
   ]
  },
  {
   "cell_type": "code",
   "execution_count": 122,
   "metadata": {},
   "outputs": [],
   "source": [
    "def fitness(table, code):\n",
    "    return 1 - mean_conductance(table, code)"
   ]
  },
  {
   "cell_type": "code",
   "execution_count": 123,
   "metadata": {},
   "outputs": [
    {
     "name": "stdout",
     "output_type": "stream",
     "text": [
      "0.7724867724867727\n",
      "0.22751322751322733\n"
     ]
    }
   ],
   "source": [
    "print(mean_conductance(table_ones, partition_table5a))\n",
    "print(fitness(table_ones, partition_table5a))"
   ]
  },
  {
   "cell_type": "code",
   "execution_count": 158,
   "metadata": {},
   "outputs": [],
   "source": [
    "def random_partition():\n",
    "    partition = []\n",
    "    for i in range(21):\n",
    "        partition.append(i)\n",
    "    for i in range(64 - 21):\n",
    "        partition.append(random.randint(0, 20))\n",
    "    random.shuffle(partition)\n",
    "    return partition\n",
    "\n",
    "def partition_to_codons(partition):\n",
    "    partition_codons = [[] for _ in range(21)]\n",
    "    for i, group in enumerate(partition):\n",
    "        partition_codons[group].append(nodes[i])\n",
    "    return partition_codons"
   ]
  },
  {
   "cell_type": "code",
   "execution_count": 163,
   "metadata": {},
   "outputs": [
    {
     "name": "stdout",
     "output_type": "stream",
     "text": [
      "0.973721340388007\n"
     ]
    }
   ],
   "source": [
    "partition = partition_to_codons(random_partition())\n",
    "print(mean_conductance(table_ones, partition))"
   ]
  },
  {
   "cell_type": "code",
   "execution_count": 200,
   "metadata": {},
   "outputs": [],
   "source": [
    "def initialize_population(pop_size=100):\n",
    "    partitions = [random_partition() for _ in range(pop_size)]\n",
    "    return partitions"
   ]
  },
  {
   "cell_type": "code",
   "execution_count": 202,
   "metadata": {},
   "outputs": [
    {
     "name": "stdout",
     "output_type": "stream",
     "text": [
      "[12, 5, 4, 19, 6, 1, 14, 3, 3, 19, 14, 0, 10, 11, 3, 4, 13, 8, 20, 2, 3, 18, 18, 7, 8, 19, 15, 6, 14, 2, 8, 5, 10, 10, 10, 2, 10, 6, 16, 10, 17, 11, 12, 2, 4, 6, 6, 3, 3, 10, 0, 20, 4, 20, 11, 13, 0, 9, 1, 8, 18, 17, 15, 6]\n"
     ]
    }
   ],
   "source": [
    "def crossover(parent1, parent2):\n",
    "    child = parent1.copy()\n",
    "    for i in range(64):\n",
    "        if np.random.rand() > 0.5:\n",
    "            child[i] = parent2[i]\n",
    "        if len(set(child)) != 21:\n",
    "            child[i] = parent1[i]\n",
    "    return child\n",
    "\n",
    "p1 = random_partition()\n",
    "p2 = random_partition()\n",
    "\n",
    "print(crossover(p1, p2))"
   ]
  },
  {
   "cell_type": "code",
   "execution_count": 227,
   "metadata": {},
   "outputs": [],
   "source": [
    "def mutate(parent, mutation_rate=0.4):\n",
    "    child = parent.copy()\n",
    "    if np.random.rand() < mutation_rate:\n",
    "        return child\n",
    "    \n",
    "    while True:\n",
    "        i, j = np.random.choice(64, 2, replace=False)\n",
    "        child[i], child[j] = parent[j], parent[i]\n",
    "        if len(set(child)) == 21:\n",
    "            break\n",
    "        else:\n",
    "            child[i], child[j] = parent[i], parent[j]\n",
    "    return child\n",
    "        \n",
    "p = random_partition()"
   ]
  },
  {
   "cell_type": "code",
   "execution_count": 244,
   "metadata": {},
   "outputs": [],
   "source": [
    "def evolutionary_algorithm(fitness, pop_size=150, crossover_rate=0.6, max_generations=1000, bias_factor=1, start=None):\n",
    "    \n",
    "    if start is not None:\n",
    "        population = [start for _ in range(pop_size)]\n",
    "    else:\n",
    "        population = initialize_population(pop_size)\n",
    "    \n",
    "    best_fitness = 0\n",
    "    generations = 0\n",
    "    \n",
    "    probabilities = np.exp(-bias_factor * np.arange(pop_size) / pop_size)\n",
    "    probabilities /= np.sum(probabilities)\n",
    "    \n",
    "    while generations < max_generations:\n",
    "        fitness_values = np.array([fitness(table_ones, partition_to_codons(ind)) for ind in population])\n",
    "        sorted_indices = np.argsort(fitness_values)[::-1]\n",
    "        sorted_population = []\n",
    "        for i in sorted_indices:\n",
    "            sorted_population.append(population[i])\n",
    "        population = sorted_population\n",
    "        new_population = []\n",
    "      \n",
    "        for i in range(int(crossover_rate * pop_size)):\n",
    "            parent1_index, parent2_index = np.random.choice(pop_size, size=2, p=probabilities, replace=False)\n",
    "            parent1, parent2 = population[parent1_index], population[parent2_index]\n",
    "            child = crossover(parent1, parent2)\n",
    "            new_population.append(child)\n",
    "        \n",
    "        while len(new_population) < pop_size:\n",
    "            new_population.append(population[np.random.choice(pop_size, p=probabilities)].copy())\n",
    "        \n",
    "        new_population = np.array([mutate(ind) for ind in new_population])\n",
    "        \n",
    "        new_best_fitness = max(fitness_values)\n",
    "        if new_best_fitness > best_fitness:\n",
    "            best_fitness = new_best_fitness\n",
    "        print(f\"{best_fitness:.5f}, {new_best_fitness:.5f}\", generations)\n",
    "        \n",
    "        population = new_population\n",
    "        generations += 1\n",
    "    \n",
    "    fitness_values = np.array([fitness(table_ones, partition_to_codons(ind)) for ind in population])\n",
    "    sorted_indices = np.argsort(fitness_values)[::-1]\n",
    "    population = population[sorted_indices]\n",
    "    best_individual = population[0]\n",
    "    \n",
    "    return best_individual"
   ]
  },
  {
   "cell_type": "code",
   "execution_count": 245,
   "metadata": {},
   "outputs": [
    {
     "name": "stdout",
     "output_type": "stream",
     "text": [
      "0.20388, 0.20388 0\n",
      "0.20388, 0.20388 1\n",
      "0.21235, 0.21235 2\n",
      "0.21235, 0.21235 3\n",
      "0.21235, 0.21235 4\n",
      "0.21235, 0.21235 5\n",
      "0.21235, 0.21235 6\n",
      "0.21235, 0.21235 7\n",
      "0.21340, 0.21340 8\n",
      "0.21340, 0.21340 9\n",
      "0.21340, 0.21340 10\n",
      "0.21340, 0.21235 11\n",
      "0.21340, 0.21235 12\n",
      "0.21340, 0.21235 13\n",
      "0.21340, 0.21340 14\n",
      "0.21340, 0.21235 15\n",
      "0.21340, 0.21164 16\n",
      "0.21340, 0.21164 17\n",
      "0.21340, 0.21164 18\n",
      "0.21340, 0.20811 19\n",
      "0.21340, 0.21340 20\n",
      "0.21340, 0.20811 21\n",
      "0.21340, 0.21235 22\n",
      "0.21340, 0.21235 23\n",
      "0.21340, 0.21235 24\n",
      "0.21340, 0.21235 25\n",
      "0.21340, 0.21235 26\n",
      "0.21340, 0.20811 27\n",
      "0.21340, 0.20811 28\n",
      "0.21340, 0.21235 29\n",
      "0.21340, 0.21340 30\n",
      "0.21340, 0.21235 31\n",
      "0.21340, 0.21058 32\n",
      "0.21340, 0.21235 33\n",
      "0.21340, 0.21235 34\n",
      "0.21517, 0.21517 35\n",
      "0.21517, 0.20988 36\n",
      "0.21517, 0.20988 37\n",
      "0.21517, 0.21235 38\n",
      "0.21517, 0.21235 39\n",
      "0.21517, 0.21517 40\n",
      "0.21517, 0.21517 41\n",
      "0.21517, 0.21517 42\n",
      "0.21517, 0.21235 43\n",
      "0.21517, 0.21235 44\n",
      "0.21517, 0.21235 45\n",
      "0.21517, 0.21235 46\n",
      "0.21517, 0.21235 47\n",
      "0.21517, 0.21376 48\n",
      "0.21517, 0.21235 49\n",
      "0.21517, 0.21235 50\n",
      "0.21517, 0.21076 51\n",
      "0.21517, 0.21340 52\n",
      "0.21517, 0.21235 53\n",
      "0.21517, 0.21517 54\n",
      "0.21517, 0.20988 55\n",
      "0.21517, 0.21270 56\n",
      "0.21869, 0.21869 57\n",
      "0.21869, 0.21164 58\n",
      "0.21869, 0.21164 59\n",
      "0.21869, 0.20988 60\n",
      "0.21869, 0.21235 61\n",
      "0.21869, 0.21235 62\n",
      "0.21869, 0.21076 63\n",
      "0.21869, 0.21869 64\n",
      "0.21869, 0.21376 65\n",
      "0.21869, 0.21164 66\n",
      "0.21869, 0.21199 67\n",
      "0.21869, 0.21869 68\n",
      "0.21869, 0.21517 69\n",
      "0.21869, 0.21164 70\n",
      "0.21869, 0.21164 71\n",
      "0.21869, 0.21517 72\n",
      "0.21869, 0.21164 73\n",
      "0.21869, 0.21517 74\n",
      "0.21869, 0.21869 75\n",
      "0.21869, 0.21693 76\n",
      "0.21869, 0.21552 77\n",
      "0.21869, 0.21076 78\n",
      "0.21869, 0.21429 79\n",
      "0.21869, 0.21429 80\n",
      "0.22222, 0.22222 81\n",
      "0.22222, 0.21235 82\n",
      "0.22222, 0.21869 83\n",
      "0.22222, 0.22046 84\n",
      "0.22222, 0.21693 85\n",
      "0.22222, 0.21693 86\n",
      "0.22222, 0.21869 87\n",
      "0.22222, 0.21235 88\n",
      "0.22222, 0.21340 89\n",
      "0.22222, 0.21376 90\n",
      "0.22222, 0.21517 91\n",
      "0.22222, 0.22046 92\n",
      "0.22222, 0.22046 93\n",
      "0.22222, 0.21693 94\n",
      "0.22222, 0.21693 95\n",
      "0.22222, 0.22046 96\n",
      "0.22222, 0.22046 97\n",
      "0.22222, 0.22046 98\n",
      "0.22399, 0.22399 99\n"
     ]
    }
   ],
   "source": [
    "best_ind = evolutionary_algorithm(fitness, pop_size=200, max_generations=100, bias_factor=2.0, start=best_ind)"
   ]
  },
  {
   "cell_type": "code",
   "execution_count": 246,
   "metadata": {},
   "outputs": [
    {
     "name": "stdout",
     "output_type": "stream",
     "text": [
      "[['AGG', 'CGG', 'GGG', 'UGG'], ['GAA', 'GCA', 'GUA', 'UCA'], ['AGA', 'CGA', 'GGA', 'UGA'], ['AGU', 'GGU'], ['CCC', 'GCC', 'UCC'], ['AGC', 'CGC', 'GGC', 'UGC'], ['AAA', 'AAC', 'AAG', 'AAU'], ['AUC', 'CUC', 'UUC'], ['AUG', 'CUG'], ['UAA', 'UAC', 'UAU'], ['AUU', 'CUU', 'GUU', 'UUU'], ['AUA', 'UUA'], ['UAG', 'UCG', 'UUG'], ['CCA', 'CUA'], ['GUC', 'GUG'], ['CCU', 'GCU', 'UCU'], ['CGU', 'UGU'], ['ACA', 'ACC', 'ACG', 'ACU'], ['GAC', 'GAG', 'GAU'], ['CCG', 'GCG'], ['CAA', 'CAC', 'CAG', 'CAU']]\n"
     ]
    }
   ],
   "source": [
    "print(partition_to_codons(best_ind))"
   ]
  }
 ],
 "metadata": {
  "kernelspec": {
   "display_name": "Python 3",
   "language": "python",
   "name": "python3"
  },
  "language_info": {
   "codemirror_mode": {
    "name": "ipython",
    "version": 3
   },
   "file_extension": ".py",
   "mimetype": "text/x-python",
   "name": "python",
   "nbconvert_exporter": "python",
   "pygments_lexer": "ipython3",
   "version": "3.12.5"
  }
 },
 "nbformat": 4,
 "nbformat_minor": 2
}
