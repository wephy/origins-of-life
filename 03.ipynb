{
 "cells": [
  {
   "cell_type": "code",
   "execution_count": 2,
   "metadata": {},
   "outputs": [],
   "source": [
    "import numpy as np\n",
    "import networkx as nx\n",
    "from itertools import product\n",
    "import random\n",
    "import matplotlib.pyplot as plt"
   ]
  },
  {
   "cell_type": "code",
   "execution_count": 109,
   "metadata": {},
   "outputs": [],
   "source": [
    "partition_table5a = [\n",
    "    [\"UUU\", \"UUC\", \"UUA\"],\n",
    "    [\"UUG\", \"CUG\", \"AUG\"],\n",
    "    [\"CUU\", \"CUC\", \"CUA\"],\n",
    "    [\"AUU\", \"AUC\", \"AUA\"],\n",
    "    [\"GUU\", \"GUC\", \"GUA\"],\n",
    "    [\"GUG\", \"GCG\", \"GAG\", \"GGG\"],\n",
    "    [\"UCU\", \"UCC\", \"UCA\"],\n",
    "    [\"UCG\", \"CCG\", \"ACG\"],\n",
    "    [\"CCU\", \"CCC\", \"CCA\"],\n",
    "    [\"ACU\", \"ACC\", \"ACA\"],\n",
    "    [\"GCU\", \"GCC\", \"GCA\"],\n",
    "    [\"UAU\", \"UAC\", \"UAA\"],\n",
    "    [\"UAG\", \"CAG\", \"AAG\"],\n",
    "    [\"CAU\", \"CAC\", \"CAA\"],\n",
    "    [\"AAU\", \"AAC\", \"AAA\"],\n",
    "    [\"GAU\", \"GAC\", \"GAA\"],\n",
    "    [\"UGU\", \"UGC\", \"UGA\"],\n",
    "    [\"UGG\", \"CGG\", \"AGG\"],\n",
    "    [\"CGU\", \"CGC\", \"CGA\"],\n",
    "    [\"AGU\", \"AGC\", \"AGA\"],\n",
    "    [\"GGU\", \"GGC\", \"GGA\"],\n",
    "]"
   ]
  },
  {
   "cell_type": "code",
   "execution_count": 110,
   "metadata": {},
   "outputs": [
    {
     "name": "stdout",
     "output_type": "stream",
     "text": [
      "64\n"
     ]
    }
   ],
   "source": [
    "print(len(set([item for sublist in partition_table5a for item in sublist])))"
   ]
  },
  {
   "cell_type": "code",
   "execution_count": 111,
   "metadata": {},
   "outputs": [],
   "source": [
    "length = 3\n",
    "alphabet = ['A', 'C', 'G', 'U']\n",
    "nodes = [''.join(p) for p in product(alphabet, repeat=length)]"
   ]
  },
  {
   "cell_type": "code",
   "execution_count": 112,
   "metadata": {},
   "outputs": [],
   "source": [
    "swap_index =  {\n",
    "    0: {#U\n",
    "        0: \n",
    "        #C    #A    #G   \n",
    "        {1: 0, 2: 1, 3: 2},\n",
    "        #C\n",
    "        1:\n",
    "        #A    #G\n",
    "        {2: 3, 3: 4},\n",
    "        #A\n",
    "        2:\n",
    "        #G\n",
    "        {3: 5}\n",
    "        },\n",
    "    1: {#A\n",
    "        0: \n",
    "        #C    #A    #G   \n",
    "        {1: 6, 2: 7, 3: 8},\n",
    "        #C\n",
    "        1:\n",
    "        #A    #G\n",
    "        {2: 9, 3: 10},\n",
    "        #A\n",
    "        2:\n",
    "        #G\n",
    "        {3: 11}\n",
    "        },\n",
    "    2: {#A\n",
    "        0: \n",
    "        #C    #A    #G   \n",
    "        {1: 12, 2: 13, 3: 14},\n",
    "        #C\n",
    "        1:\n",
    "        #A    #G\n",
    "        {2: 15, 3: 16},\n",
    "        #A\n",
    "        2:\n",
    "        #G\n",
    "        {3: 17}\n",
    "        },\n",
    "}\n",
    "\n",
    "table_ones = np.ones(18)\n",
    "\n",
    "table_altered = [1, 1, 1, 1, 1, 1,\n",
    "                 1, 1, 1, 1, 1, 1,\n",
    "                 2, 4, 2, 2, 4, 2]"
   ]
  },
  {
   "cell_type": "code",
   "execution_count": 24,
   "metadata": {},
   "outputs": [],
   "source": [
    "def weights(s1, s2, table):\n",
    "    if sum(a != b for a, b in zip(s1, s2)) == 1:\n",
    "        if s1[0] != s2[0]:\n",
    "            # base 1\n",
    "            letter1 = s1[0]\n",
    "            letter2 = s2[0]\n",
    "            base = 0\n",
    "        elif s1[1] != s2[1]:\n",
    "            # base 2\n",
    "            letter1 = s1[1]\n",
    "            letter2 = s2[1]\n",
    "            base = 1\n",
    "        else:\n",
    "            # base3\n",
    "            letter1 = s1[2]\n",
    "            letter2 = s2[2]\n",
    "            base = 2\n",
    "    \n",
    "        l1 = ['U', 'C', 'A', 'G'].index(letter1)\n",
    "        l2 = ['U', 'C', 'A', 'G'].index(letter2)\n",
    "        if l1 > l2:\n",
    "            l1, l2 = l2, l1\n",
    "        return table[swap_index[base][l1][l2]]"
   ]
  },
  {
   "cell_type": "code",
   "execution_count": 25,
   "metadata": {},
   "outputs": [],
   "source": [
    "def conductance(S, G):\n",
    "    numerator = 0\n",
    "    denominator = 0\n",
    "    for edge, w in nx.get_edge_attributes(G, \"weight\").items():\n",
    "        node1, node2 = edge\n",
    "        if node1 in S and node2 in S:\n",
    "            denominator += 2 * w\n",
    "        else:\n",
    "            numerator += w\n",
    "            denominator += w\n",
    "\n",
    "    return numerator / denominator"
   ]
  },
  {
   "cell_type": "code",
   "execution_count": 117,
   "metadata": {},
   "outputs": [],
   "source": [
    "def mean_conductance(table, code):\n",
    "    conductances = []\n",
    "    for S in code:\n",
    "        G = nx.Graph()\n",
    "        for i, node1 in enumerate(S):\n",
    "            for node2 in nodes:\n",
    "                if node2 == node1:\n",
    "                    continue\n",
    "                w = weights(node1, node2, table)\n",
    "                if w:\n",
    "                    G.add_edge(node1, node2, weight=w)\n",
    "                    \n",
    "        conductances.append(conductance(S, G))\n",
    "    return np.mean(conductances)"
   ]
  },
  {
   "cell_type": "code",
   "execution_count": 122,
   "metadata": {},
   "outputs": [],
   "source": [
    "def fitness(table, code):\n",
    "    return 1 - mean_conductance(table, code)"
   ]
  },
  {
   "cell_type": "code",
   "execution_count": 123,
   "metadata": {},
   "outputs": [
    {
     "name": "stdout",
     "output_type": "stream",
     "text": [
      "0.7724867724867727\n",
      "0.22751322751322733\n"
     ]
    }
   ],
   "source": [
    "print(mean_conductance(table_ones, partition_table5a))\n",
    "print(fitness(table_ones, partition_table5a))"
   ]
  },
  {
   "cell_type": "code",
   "execution_count": 158,
   "metadata": {},
   "outputs": [],
   "source": [
    "def random_partition():\n",
    "    partition = []\n",
    "    for i in range(21):\n",
    "        partition.append(i)\n",
    "    for i in range(64 - 21):\n",
    "        partition.append(random.randint(0, 20))\n",
    "    random.shuffle(partition)\n",
    "    return partition\n",
    "\n",
    "def partition_to_codons(partition):\n",
    "    partition_codons = [[] for _ in range(21)]\n",
    "    for i, group in enumerate(partition):\n",
    "        partition_codons[group].append(nodes[i])\n",
    "    return partition_codons"
   ]
  },
  {
   "cell_type": "code",
   "execution_count": 163,
   "metadata": {},
   "outputs": [
    {
     "name": "stdout",
     "output_type": "stream",
     "text": [
      "0.973721340388007\n"
     ]
    }
   ],
   "source": [
    "partition = partition_to_codons(random_partition())\n",
    "print(mean_conductance(table_ones, partition))"
   ]
  },
  {
   "cell_type": "code",
   "execution_count": 200,
   "metadata": {},
   "outputs": [],
   "source": [
    "def initialize_population(pop_size=100):\n",
    "    partitions = [random_partition() for _ in range(pop_size)]\n",
    "    return partitions"
   ]
  },
  {
   "cell_type": "code",
   "execution_count": 251,
   "metadata": {},
   "outputs": [
    {
     "name": "stdout",
     "output_type": "stream",
     "text": [
      "[17, 12, 11, 13, 3, 19, 1, 12, 13, 5, 14, 15, 5, 11, 16, 3, 9, 19, 18, 19, 16, 0, 12, 9, 14, 18, 7, 16, 5, 12, 3, 3, 7, 2, 20, 17, 6, 2, 11, 0, 12, 18, 12, 3, 0, 8, 18, 4, 10, 4, 11, 11, 20, 13, 17, 10, 13, 16, 7, 2, 19, 0, 8, 17]\n"
     ]
    }
   ],
   "source": [
    "def crossover(parent1, parent2):\n",
    "    child = parent1.copy()\n",
    "    for i in range(64):\n",
    "        if np.random.rand() > 0.5:\n",
    "            child[i] = parent2[i]\n",
    "        if len(set(child)) != 21:\n",
    "            child[i] = parent1[i]\n",
    "    return child\n",
    "\n",
    "p1 = random_partition()\n",
    "p2 = random_partition()\n",
    "\n",
    "print(crossover(p1, p2))"
   ]
  },
  {
   "cell_type": "code",
   "execution_count": 252,
   "metadata": {},
   "outputs": [],
   "source": [
    "def mutate(parent, mutation_rate=0.4):\n",
    "    child = parent.copy()\n",
    "    if np.random.rand() < mutation_rate:\n",
    "        return child\n",
    "    \n",
    "    while True:\n",
    "        i, j = np.random.choice(64, 2, replace=False)\n",
    "        child[i], child[j] = parent[j], parent[i]\n",
    "        if len(set(child)) == 21:\n",
    "            break\n",
    "        else:\n",
    "            child[i], child[j] = parent[i], parent[j]\n",
    "    return child\n",
    "        \n",
    "p = random_partition()"
   ]
  },
  {
   "cell_type": "code",
   "execution_count": 266,
   "metadata": {},
   "outputs": [],
   "source": [
    "def evolutionary_algorithm(fitness, pop_size=150, crossover_rate=0.6, max_generations=1000, bias_factor=1, table=table_ones, start=None):\n",
    "    \n",
    "    if start is not None:\n",
    "        population = [start for _ in range(pop_size)]\n",
    "    else:\n",
    "        population = initialize_population(pop_size)\n",
    "    \n",
    "    best_fitness = 0\n",
    "    generations = 0\n",
    "    \n",
    "    probabilities = np.exp(-bias_factor * np.arange(pop_size) / pop_size)\n",
    "    probabilities /= np.sum(probabilities)\n",
    "    \n",
    "    while generations < max_generations:\n",
    "        fitness_values = np.array([fitness(table, partition_to_codons(ind)) for ind in population])\n",
    "        sorted_indices = np.argsort(fitness_values)[::-1]\n",
    "        sorted_population = []\n",
    "        for i in sorted_indices:\n",
    "            sorted_population.append(population[i])\n",
    "        population = sorted_population\n",
    "        new_population = []\n",
    "      \n",
    "        for i in range(int(crossover_rate * pop_size)):\n",
    "            parent1_index, parent2_index = np.random.choice(pop_size, size=2, p=probabilities, replace=False)\n",
    "            parent1, parent2 = population[parent1_index], population[parent2_index]\n",
    "            child = crossover(parent1, parent2)\n",
    "            new_population.append(child)\n",
    "        \n",
    "        while len(new_population) < pop_size:\n",
    "            new_population.append(population[np.random.choice(pop_size, p=probabilities)].copy())\n",
    "        \n",
    "        new_population = np.array([mutate(ind) for ind in new_population])\n",
    "        \n",
    "        new_best_fitness = max(fitness_values)\n",
    "        if new_best_fitness > best_fitness:\n",
    "            best_fitness = new_best_fitness\n",
    "        print(f\"{best_fitness:.5f}, {new_best_fitness:.5f}\", generations, f\"cond: {(1 - best_fitness):.5f}\")\n",
    "        \n",
    "        population = new_population\n",
    "        generations += 1\n",
    "    \n",
    "    fitness_values = np.array([fitness(table, partition_to_codons(ind)) for ind in population])\n",
    "    sorted_indices = np.argsort(fitness_values)[::-1]\n",
    "    population = population[sorted_indices]\n",
    "    best_individual = population[0]\n",
    "    \n",
    "    return best_individual"
   ]
  },
  {
   "cell_type": "code",
   "execution_count": 267,
   "metadata": {},
   "outputs": [
    {
     "name": "stdout",
     "output_type": "stream",
     "text": [
      "0.07266, 0.07266 0 cond: 0.92734\n",
      "0.07460, 0.07460 1 cond: 0.92540\n",
      "0.07460, 0.07234 2 cond: 0.92540\n",
      "0.09456, 0.09456 3 cond: 0.90544\n",
      "0.09456, 0.08492 4 cond: 0.90544\n",
      "0.09456, 0.08265 5 cond: 0.90544\n",
      "0.09456, 0.08265 6 cond: 0.90544\n",
      "0.09694, 0.09694 7 cond: 0.90306\n",
      "0.09694, 0.07472 8 cond: 0.90306\n",
      "0.09694, 0.07812 9 cond: 0.90306\n",
      "0.09694, 0.08993 10 cond: 0.90306\n",
      "0.09694, 0.09025 11 cond: 0.90306\n",
      "0.09694, 0.08447 12 cond: 0.90306\n",
      "0.09694, 0.08923 13 cond: 0.90306\n",
      "0.09694, 0.08673 14 cond: 0.90306\n",
      "0.10680, 0.10680 15 cond: 0.89320\n",
      "0.10680, 0.10493 16 cond: 0.89320\n",
      "0.10680, 0.10096 17 cond: 0.89320\n",
      "0.10680, 0.10578 18 cond: 0.89320\n",
      "0.10680, 0.10578 19 cond: 0.89320\n",
      "0.10850, 0.10850 20 cond: 0.89150\n",
      "0.10850, 0.10850 21 cond: 0.89150\n",
      "0.10850, 0.10850 22 cond: 0.89150\n",
      "0.13108, 0.13108 23 cond: 0.86892\n",
      "0.13108, 0.10873 24 cond: 0.86892\n",
      "0.13175, 0.13175 25 cond: 0.86825\n",
      "0.13175, 0.11485 26 cond: 0.86825\n",
      "0.13175, 0.12007 27 cond: 0.86825\n",
      "0.13175, 0.12007 28 cond: 0.86825\n",
      "0.13866, 0.13866 29 cond: 0.86134\n",
      "0.13866, 0.13866 30 cond: 0.86134\n",
      "0.14491, 0.14491 31 cond: 0.85509\n",
      "0.14491, 0.13186 32 cond: 0.85509\n",
      "0.14491, 0.13440 33 cond: 0.85509\n",
      "0.14717, 0.14717 34 cond: 0.85283\n",
      "0.15068, 0.15068 35 cond: 0.84932\n",
      "0.16519, 0.16519 36 cond: 0.83481\n",
      "0.16519, 0.15630 37 cond: 0.83481\n",
      "0.16519, 0.15590 38 cond: 0.83481\n",
      "0.16519, 0.15964 39 cond: 0.83481\n",
      "0.17211, 0.17211 40 cond: 0.82789\n",
      "0.18662, 0.18662 41 cond: 0.81338\n",
      "0.18897, 0.18897 42 cond: 0.81103\n",
      "0.19558, 0.19558 43 cond: 0.80442\n",
      "0.20283, 0.20283 44 cond: 0.79717\n",
      "0.21733, 0.21733 45 cond: 0.78267\n",
      "0.21733, 0.20202 46 cond: 0.78267\n",
      "0.21733, 0.20204 47 cond: 0.78267\n",
      "0.21733, 0.21224 48 cond: 0.78267\n",
      "0.22710, 0.22710 49 cond: 0.77290\n",
      "0.22710, 0.21937 50 cond: 0.77290\n",
      "0.22710, 0.21937 51 cond: 0.77290\n",
      "0.22710, 0.21505 52 cond: 0.77290\n",
      "0.22710, 0.22653 53 cond: 0.77290\n",
      "0.22930, 0.22930 54 cond: 0.77070\n",
      "0.22930, 0.22930 55 cond: 0.77070\n",
      "0.22930, 0.22596 56 cond: 0.77070\n",
      "0.23356, 0.23356 57 cond: 0.76644\n",
      "0.24354, 0.24354 58 cond: 0.75646\n",
      "0.24819, 0.24819 59 cond: 0.75181\n",
      "0.24819, 0.24694 60 cond: 0.75181\n",
      "0.26168, 0.26168 61 cond: 0.73832\n",
      "0.26168, 0.24728 62 cond: 0.73832\n",
      "0.26168, 0.25454 63 cond: 0.73832\n",
      "0.26168, 0.25760 64 cond: 0.73832\n",
      "0.26168, 0.25207 65 cond: 0.73832\n",
      "0.26168, 0.25816 66 cond: 0.73832\n",
      "0.26168, 0.25000 67 cond: 0.73832\n",
      "0.26168, 0.25385 68 cond: 0.73832\n",
      "0.26542, 0.26542 69 cond: 0.73458\n",
      "0.26542, 0.25805 70 cond: 0.73458\n",
      "0.26542, 0.25397 71 cond: 0.73458\n",
      "0.26542, 0.25272 72 cond: 0.73458\n",
      "0.26542, 0.25522 73 cond: 0.73458\n",
      "0.26542, 0.25748 74 cond: 0.73458\n",
      "0.26542, 0.25760 75 cond: 0.73458\n",
      "0.26542, 0.25828 76 cond: 0.73458\n",
      "0.26542, 0.25986 77 cond: 0.73458\n",
      "0.26542, 0.26077 78 cond: 0.73458\n",
      "0.26542, 0.26224 79 cond: 0.73458\n",
      "0.26542, 0.26190 80 cond: 0.73458\n",
      "0.26542, 0.26168 81 cond: 0.73458\n",
      "0.26542, 0.26406 82 cond: 0.73458\n",
      "0.27630, 0.27630 83 cond: 0.72370\n",
      "0.28118, 0.28118 84 cond: 0.71882\n",
      "0.28118, 0.27086 85 cond: 0.71882\n",
      "0.28118, 0.27086 86 cond: 0.71882\n",
      "0.28118, 0.27211 87 cond: 0.71882\n",
      "0.28787, 0.28787 88 cond: 0.71213\n",
      "0.28787, 0.28005 89 cond: 0.71213\n",
      "0.28787, 0.28549 90 cond: 0.71213\n",
      "0.28787, 0.27358 91 cond: 0.71213\n",
      "0.28787, 0.27846 92 cond: 0.71213\n",
      "0.28787, 0.27846 93 cond: 0.71213\n",
      "0.28787, 0.28583 94 cond: 0.71213\n",
      "0.28787, 0.27041 95 cond: 0.71213\n",
      "0.28787, 0.27528 96 cond: 0.71213\n",
      "0.28787, 0.27528 97 cond: 0.71213\n",
      "0.28787, 0.27823 98 cond: 0.71213\n",
      "0.29422, 0.29422 99 cond: 0.70578\n"
     ]
    }
   ],
   "source": [
    "best_ind = evolutionary_algorithm(fitness, pop_size=100, max_generations=100, bias_factor=2.0, table=table_altered)"
   ]
  },
  {
   "cell_type": "code",
   "execution_count": 269,
   "metadata": {},
   "outputs": [
    {
     "name": "stdout",
     "output_type": "stream",
     "text": [
      "0.41134, 0.41134 0 cond: 0.58866\n",
      "0.41134, 0.41134 1 cond: 0.58866\n",
      "0.41134, 0.41134 2 cond: 0.58866\n",
      "0.41134, 0.41134 3 cond: 0.58866\n",
      "0.41134, 0.41134 4 cond: 0.58866\n",
      "0.41134, 0.41134 5 cond: 0.58866\n",
      "0.41134, 0.41134 6 cond: 0.58866\n",
      "0.41134, 0.41134 7 cond: 0.58866\n",
      "0.41134, 0.41134 8 cond: 0.58866\n",
      "0.41134, 0.41134 9 cond: 0.58866\n",
      "0.41134, 0.41134 10 cond: 0.58866\n",
      "0.41134, 0.41134 11 cond: 0.58866\n",
      "0.41134, 0.41134 12 cond: 0.58866\n",
      "0.41134, 0.41134 13 cond: 0.58866\n",
      "0.41134, 0.41134 14 cond: 0.58866\n",
      "0.41134, 0.41134 15 cond: 0.58866\n",
      "0.41134, 0.41134 16 cond: 0.58866\n",
      "0.41134, 0.41134 17 cond: 0.58866\n",
      "0.41134, 0.41134 18 cond: 0.58866\n",
      "0.41134, 0.41134 19 cond: 0.58866\n",
      "0.41134, 0.41134 20 cond: 0.58866\n",
      "0.42177, 0.42177 21 cond: 0.57823\n",
      "0.42177, 0.42177 22 cond: 0.57823\n",
      "0.42177, 0.42177 23 cond: 0.57823\n",
      "0.42177, 0.42177 24 cond: 0.57823\n",
      "0.42177, 0.42177 25 cond: 0.57823\n",
      "0.42177, 0.42177 26 cond: 0.57823\n",
      "0.42177, 0.42177 27 cond: 0.57823\n",
      "0.42177, 0.42177 28 cond: 0.57823\n",
      "0.42177, 0.42177 29 cond: 0.57823\n",
      "0.42177, 0.42177 30 cond: 0.57823\n",
      "0.42177, 0.42177 31 cond: 0.57823\n",
      "0.42177, 0.42177 32 cond: 0.57823\n",
      "0.42177, 0.42177 33 cond: 0.57823\n",
      "0.42177, 0.42177 34 cond: 0.57823\n",
      "0.42177, 0.42177 35 cond: 0.57823\n",
      "0.42177, 0.42177 36 cond: 0.57823\n",
      "0.42177, 0.42177 37 cond: 0.57823\n",
      "0.42177, 0.42177 38 cond: 0.57823\n",
      "0.42177, 0.42177 39 cond: 0.57823\n",
      "0.42177, 0.42177 40 cond: 0.57823\n",
      "0.42177, 0.42177 41 cond: 0.57823\n",
      "0.42177, 0.42177 42 cond: 0.57823\n",
      "0.42177, 0.42177 43 cond: 0.57823\n",
      "0.42177, 0.42177 44 cond: 0.57823\n",
      "0.42177, 0.42177 45 cond: 0.57823\n",
      "0.42177, 0.42177 46 cond: 0.57823\n",
      "0.42177, 0.42177 47 cond: 0.57823\n",
      "0.42177, 0.42177 48 cond: 0.57823\n",
      "0.42177, 0.42177 49 cond: 0.57823\n"
     ]
    }
   ],
   "source": [
    "best_ind = evolutionary_algorithm(fitness, pop_size=300, max_generations=50, bias_factor=5.0, table=table_altered, start=best_ind)"
   ]
  },
  {
   "cell_type": "code",
   "execution_count": 271,
   "metadata": {},
   "outputs": [
    {
     "name": "stdout",
     "output_type": "stream",
     "text": [
      "[['CUA', 'CUC', 'CUG', 'CUU'], ['UAA', 'UAC', 'UAG', 'UAU'], ['CCA', 'CCC', 'CCG', 'CCU'], ['CAA', 'CAC', 'CAG', 'CAU'], ['AUA', 'AUU'], ['CGA', 'CGU'], ['AUC', 'AUG', 'UGA', 'UGU'], ['UGC', 'UGG'], ['GUC', 'GUG'], ['AGA', 'AGC', 'AGG', 'AGU'], ['UUA', 'UUC', 'UUG', 'UUU'], ['GCA', 'GCU'], ['GAA', 'GAC', 'GAG', 'GAU'], ['ACA', 'ACC', 'ACG', 'ACU'], ['CGC', 'CGG'], ['GGA', 'GGC', 'GGG', 'GGU'], ['GCC', 'GCG'], ['AAA', 'AAU'], ['AAC', 'AAG'], ['UCA', 'UCC', 'UCG', 'UCU'], ['GUA', 'GUU']]\n"
     ]
    }
   ],
   "source": [
    "print(partition_to_codons(best_ind))"
   ]
  },
  {
   "cell_type": "code",
   "execution_count": null,
   "metadata": {},
   "outputs": [],
   "source": [
    "print(partition_to_codons(best_ind))"
   ]
  }
 ],
 "metadata": {
  "kernelspec": {
   "display_name": "Python 3",
   "language": "python",
   "name": "python3"
  },
  "language_info": {
   "codemirror_mode": {
    "name": "ipython",
    "version": 3
   },
   "file_extension": ".py",
   "mimetype": "text/x-python",
   "name": "python",
   "nbconvert_exporter": "python",
   "pygments_lexer": "ipython3",
   "version": "3.12.5"
  }
 },
 "nbformat": 4,
 "nbformat_minor": 2
}
